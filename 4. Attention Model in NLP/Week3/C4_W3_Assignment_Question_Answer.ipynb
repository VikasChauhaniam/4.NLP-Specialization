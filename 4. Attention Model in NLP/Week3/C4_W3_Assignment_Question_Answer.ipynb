{
 "cells": [
  {
   "cell_type": "markdown",
   "metadata": {
    "colab_type": "text",
    "id": "7yuytuIllsv1"
   },
   "source": [
    "# Assignment 3: Question Answering\n",
    "\n",
    "Welcome to this week's assignment of course 4. In this you will explore question answering. You will implement the \"Text to Text Transfer from Transformers\" (better known as T5). Since you implemented transformers from scratch last week you will now be able to use them. \n",
    "\n",
    "<img src = \"images/qa.png\"> "
   ]
  },
  {
   "cell_type": "markdown",
   "metadata": {
    "colab_type": "text",
    "id": "Db6LQW5cMSgx"
   },
   "source": [
    "## Outline\n",
    "\n",
    "- [Overview](#0)\n",
    "- [Part 0: Importing the Packages](#0)\n",
    "- [Part 1: C4 Dataset](#1)\n",
    "    - [1.1 Pre-Training Objective](#1.1)\n",
    "    - [1.2 Process C4](#1.2)\n",
    "        - [1.2.1 Decode to natural language](#1.2.1)\n",
    "    - [1.3 Tokenizing and Masking](#1.3)\n",
    "        - [Exercise 01](#ex01)\n",
    "    - [1.4 Creating the Pairs](#1.4)\n",
    "- [Part 2: Transfomer](#2)\n",
    "    - [2.1 Transformer Encoder](#2.1)\n",
    "        - [2.1.1 The Feedforward Block](#2.1.1)\n",
    "            - [Exercise 02](#ex02)\n",
    "        - [2.1.2 The Encoder Block](#2.1.2)\n",
    "            - [Exercise 03](#ex03)\n",
    "        - [2.1.3 The Transformer Encoder](#2.1.3)            \n",
    "            - [Exercise 04](#ex04)"
   ]
  },
  {
   "cell_type": "markdown",
   "metadata": {
    "colab_type": "text",
    "id": "ysxogfC1M158"
   },
   "source": [
    "<a name='0'></a>\n",
    "### Overview\n",
    "\n",
    "This assignment will be different from the two previous ones. Due to memory and time constraints of this environment you will not be able to train a model and use it for inference. Instead you will create the necessary building blocks for the transformer encoder model and will use a pretrained version of the same model in two ungraded labs after this assignment.\n",
    "\n",
    "After completing these 3 (1 graded and 2 ungraded) labs you will:\n",
    "* Implement the code neccesary for Bidirectional Encoder Representation from Transformer (BERT).\n",
    "* Understand how the C4 dataset is structured.\n",
    "* Use a pretrained model for inference.\n",
    "* Understand how the \"Text to Text Transfer from Transformers\" or T5 model works. "
   ]
  },
  {
   "cell_type": "markdown",
   "metadata": {},
   "source": [
    "<a name='0'></a>\n",
    "# Part 0: Importing the Packages"
   ]
  },
  {
   "cell_type": "code",
   "execution_count": 1,
   "metadata": {
    "colab": {
     "base_uri": "https://localhost:8080/",
     "height": 34
    },
    "colab_type": "code",
    "id": "uDhi6qLQMHzs",
    "outputId": "64947d91-eef3-425b-9b4b-7ca7cefcc823"
   },
   "outputs": [],
   "source": [
    "import ast\n",
    "import pprint\n",
    "import string\n",
    "import textwrap\n",
    "import itertools\n",
    "import numpy as np\n",
    "import w3_tests\n",
    "\n",
    "import trax \n",
    "from trax import layers as tl\n",
    "from trax.supervised import decoding\n",
    "\n",
    "# Will come handy later.\n",
    "wrapper = textwrap.TextWrapper(width=70)\n",
    "\n",
    "# Set random seed\n",
    "np.random.seed(42)"
   ]
  },
  {
   "cell_type": "markdown",
   "metadata": {
    "colab_type": "text",
    "id": "Cwr7LoXwQUW5"
   },
   "source": [
    "<a name='1'></a>\n",
    "## Part 1: C4 Dataset\n",
    "\n",
    "The [C4](https://www.tensorflow.org/datasets/catalog/c4) is a huge data set. For the purpose of this assignment you will use a few examples out of it which are present in `data.txt`. C4 is based on the [common crawl](https://commoncrawl.org/) project. Feel free to read more on their website. \n",
    "\n",
    "Run the cell below to see how the examples look like. "
   ]
  },
  {
   "cell_type": "code",
   "execution_count": 2,
   "metadata": {},
   "outputs": [],
   "source": [
    "# load example jsons\n",
    "example_jsons = list(map(ast.literal_eval, open('data/data.txt')))"
   ]
  },
  {
   "cell_type": "code",
   "execution_count": 3,
   "metadata": {
    "colab": {
     "base_uri": "https://localhost:8080/",
     "height": 54
    },
    "colab_type": "code",
    "id": "MgBdZ8wqX51D",
    "outputId": "338e9751-8fc1-4f64-817a-3406b67f5dd5"
   },
   "outputs": [
    {
     "name": "stdout",
     "output_type": "stream",
     "text": [
      "example number 1: \n",
      "\n",
      "{'content-length': b'1970', 'content-type': b'text/plain', 'text': b'Beginners BBQ Class Taking Place in Missoula!\\nDo you want to get better at making delicious BBQ? You will have the opportunity, put this on your calendar now. Thursday, September 22nd join World Class BBQ Champion, Tony Balay from Lonestar Smoke Rangers. He will be teaching a beginner level class for everyone who wants to get better with their culinary skills.\\nHe will teach you everything you need to know to compete in a KCBS BBQ competition, including techniques, recipes, timelines, meat selection and trimming, plus smoker and fire information.\\nThe cost to be in the class is $35 per person, and for spectators it is free. Included in the cost will be either a t-shirt or apron and you will be tasting samples of each meat that is prepared.', 'timestamp': b'2019-04-25T12:57:54Z', 'url': b'https://klyq.com/beginners-bbq-class-taking-place-in-missoula/'} \n",
      "\n",
      "example number 2: \n",
      "\n",
      "{'content-length': b'12064', 'content-type': b'text/plain', 'text': b'Discussion in \\'Mac OS X Lion (10.7)\\' started by axboi87, Jan 20, 2012.\\nI\\'ve got a 500gb internal drive and a 240gb SSD.\\nWhen trying to restore using disk utility i\\'m given the error \"Not enough space on disk ____ to restore\"\\nBut I shouldn\\'t have to do that!!!\\nAny ideas or workarounds before resorting to the above?\\nUse Carbon Copy Cloner to copy one drive to the other. I\\'ve done this several times going from larger HDD to smaller SSD and I wound up with a bootable SSD drive. One step you have to remember not to skip is to use Disk Utility to partition the SSD as GUID partition scheme HFS+ before doing the clone. If it came Apple Partition Scheme, even if you let CCC do the clone, the resulting drive won\\'t be bootable. CCC usually works in \"file mode\" and it can easily copy a larger drive (that\\'s mostly empty) onto a smaller drive. If you tell CCC to clone a drive you did NOT boot from, it can work in block copy mode where the destination drive must be the same size or larger than the drive you are cloning from (if I recall).\\nI\\'ve actually done this somehow on Disk Utility several times (booting from a different drive (or even the dvd) so not running disk utility from the drive your cloning) and had it work just fine from larger to smaller bootable clone. Definitely format the drive cloning to first, as bootable Apple etc..\\nThanks for pointing this out. My only experience using DU to go larger to smaller was when I was trying to make a Lion install stick and I was unable to restore InstallESD.dmg to a 4 GB USB stick but of course the reason that wouldn\\'t fit is there was slightly more than 4 GB of data.', 'timestamp': b'2019-04-21T10:07:13Z', 'url': b'https://forums.macrumors.com/threads/restore-from-larger-disk-to-smaller-disk.1311329/'} \n",
      "\n",
      "example number 3: \n",
      "\n",
      "{'content-length': b'5235', 'content-type': b'text/plain', 'text': b'Foil plaid lycra and spandex shortall with metallic slinky insets. Attached metallic elastic belt with O-ring. Headband included. Great hip hop or jazz dance costume. Made in the USA.', 'timestamp': b'2019-04-25T10:40:23Z', 'url': b'https://awishcometrue.com/Catalogs/Clearance/Tweens/V1960-Find-A-Way'} \n",
      "\n",
      "example number 4: \n",
      "\n",
      "{'content-length': b'4967', 'content-type': b'text/plain', 'text': b\"How many backlinks per day for new site?\\nDiscussion in 'Black Hat SEO' started by Omoplata, Dec 3, 2010.\\n1) for a newly created site, what's the max # backlinks per day I should do to be safe?\\n2) how long do I have to let my site age before I can start making more blinks?\\nI did about 6000 forum profiles every 24 hours for 10 days for one of my sites which had a brand new domain.\\nThere is three backlinks for every of these forum profile so thats 18 000 backlinks every 24 hours and nothing happened in terms of being penalized or sandboxed. This is now maybe 3 months ago and the site is ranking on first page for a lot of my targeted keywords.\\nbuild more you can in starting but do manual submission and not spammy type means manual + relevant to the post.. then after 1 month you can make a big blast..\\nWow, dude, you built 18k backlinks a day on a brand new site? How quickly did you rank up? What kind of competition/searches did those keywords have?\", 'timestamp': b'2019-04-21T12:46:19Z', 'url': b'https://www.blackhatworld.com/seo/how-many-backlinks-per-day-for-new-site.258615/'} \n",
      "\n",
      "example number 5: \n",
      "\n",
      "{'content-length': b'4499', 'content-type': b'text/plain', 'text': b'The Denver Board of Education opened the 2017-18 school year with an update on projects that include new construction, upgrades, heat mitigation and quality learning environments.\\nWe are excited that Denver students will be the beneficiaries of a four year, $572 million General Obligation Bond. Since the passage of the bond, our construction team has worked to schedule the projects over the four-year term of the bond.\\nDenver voters on Tuesday approved bond and mill funding measures for students in Denver Public Schools, agreeing to invest $572 million in bond funding to build and improve schools and $56.6 million in operating dollars to support proven initiatives, such as early literacy.\\nDenver voters say yes to bond and mill levy funding support for DPS students and schools. Click to learn more about the details of the voter-approved bond measure.\\nDenver voters on Nov. 8 approved bond and mill funding measures for DPS students and schools. Learn more about what\\xe2\\x80\\x99s included in the mill levy measure.', 'timestamp': b'2019-04-20T14:33:21Z', 'url': b'http://bond.dpsk12.org/category/news/'} \n",
      "\n"
     ]
    }
   ],
   "source": [
    "# Printing the examples to see how the data looks like\n",
    "for i in range(5):\n",
    "    print(f'example number {i+1}: \\n\\n{example_jsons[i]} \\n')"
   ]
  },
  {
   "cell_type": "markdown",
   "metadata": {},
   "source": [
    "Notice the `b` before each string? This means that this data comes as bytes rather than strings. Strings are actually lists of bytes so for the rest of the assignments the name `strings` will be used to describe the data. \n",
    "\n",
    "To check this run the following cell:"
   ]
  },
  {
   "cell_type": "code",
   "execution_count": 4,
   "metadata": {},
   "outputs": [
    {
     "data": {
      "text/plain": [
       "bytes"
      ]
     },
     "execution_count": 4,
     "metadata": {},
     "output_type": "execute_result"
    }
   ],
   "source": [
    "type(example_jsons[0].get('text'))"
   ]
  },
  {
   "cell_type": "markdown",
   "metadata": {
    "colab_type": "text",
    "id": "t7A-LAxsYpDd"
   },
   "source": [
    "<a name='1.1'></a>\n",
    "###  1.1 Pre-Training Objective\n",
    "\n",
    "**Note:** The word \"mask\" will be used throughout this assignment in context of hiding/removing word(s)\n",
    "\n",
    "You will be implementing the BERT loss as shown in the following image. \n",
    "\n",
    "<img src = \"images/loss.png\" width=\"600\" height = \"400\">\n",
    "<!DOCTYPE html><html><head><meta name=\"viewport\" content=\"width=device-width, initial-scale=1\"><style>img{display: block; margin-left: auto; margin-right: auto;}</style></head><body><img src=\"data:image/png;base64,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\" alt=\"loss.png\" style=\"max-width:100%;\"></body></html>\n",
    "\n",
    "Assume you have the following text: <span style = \"color:blue\"> **Thank you <span style = \"color:red\">for inviting </span> me to your party <span style = \"color:red\">last</span>  week** </span> \n",
    "\n",
    "\n",
    "Now as input you will mask the words in red in the text: \n",
    "\n",
    "<span style = \"color:blue\"> **Input:**</span> Thank you  **X** me to your party **Y** week.\n",
    "\n",
    "<span style = \"color:blue\">**Output:**</span> The model should predict the words(s) for **X** and **Y**. \n",
    "\n",
    "**Z** is used to represent the end."
   ]
  },
  {
   "cell_type": "markdown",
   "metadata": {
    "colab_type": "text",
    "id": "eeihIgtiaSfh"
   },
   "source": [
    "<a name='1.2'></a>\n",
    "### 1.2 Process C4\n",
    "\n",
    "C4 only has the plain string `text` field, so you will tokenize and have `inputs` and `targets` out of it for supervised learning. Given your inputs, the goal is to predict the targets during training. \n",
    "\n",
    "You will now take the `text` and convert it to `inputs` and `targets`."
   ]
  },
  {
   "cell_type": "code",
   "execution_count": 5,
   "metadata": {},
   "outputs": [],
   "source": [
    "# Grab text field from dictionary\n",
    "natural_language_texts = [example_json['text'] for example_json in example_jsons]"
   ]
  },
  {
   "cell_type": "code",
   "execution_count": 6,
   "metadata": {
    "colab": {
     "base_uri": "https://localhost:8080/",
     "height": 122
    },
    "colab_type": "code",
    "id": "hNKnxUMbba96",
    "outputId": "4f689b44-8ecb-45d6-d73f-22a0b2bf6d48"
   },
   "outputs": [
    {
     "data": {
      "text/plain": [
       "b'The Denver Board of Education opened the 2017-18 school year with an update on projects that include new construction, upgrades, heat mitigation and quality learning environments.\\nWe are excited that Denver students will be the beneficiaries of a four year, $572 million General Obligation Bond. Since the passage of the bond, our construction team has worked to schedule the projects over the four-year term of the bond.\\nDenver voters on Tuesday approved bond and mill funding measures for students in Denver Public Schools, agreeing to invest $572 million in bond funding to build and improve schools and $56.6 million in operating dollars to support proven initiatives, such as early literacy.\\nDenver voters say yes to bond and mill levy funding support for DPS students and schools. Click to learn more about the details of the voter-approved bond measure.\\nDenver voters on Nov. 8 approved bond and mill funding measures for DPS students and schools. Learn more about what\\xe2\\x80\\x99s included in the mill levy measure.'"
      ]
     },
     "execution_count": 6,
     "metadata": {},
     "output_type": "execute_result"
    }
   ],
   "source": [
    "# First text example\n",
    "natural_language_texts[4]"
   ]
  },
  {
   "cell_type": "markdown",
   "metadata": {
    "colab_type": "text",
    "id": "1rMrONRqcCYi"
   },
   "source": [
    "<a name='1.2.1'></a>\n",
    "#### 1.2.1 Decode to natural language\n",
    "\n",
    "The following functions will help you `detokenize` and`tokenize` the text data.  \n",
    "\n",
    "The `sentencepiece` vocabulary was used to convert from text to ids. This vocabulary file is loaded and used in these helper functions.\n",
    "\n",
    "`natural_language_texts` has the text from the examples we gave you. \n",
    "\n",
    "Run the cells below to see what is going on. "
   ]
  },
  {
   "cell_type": "code",
   "execution_count": 7,
   "metadata": {
    "colab": {
     "base_uri": "https://localhost:8080/",
     "height": 54
    },
    "colab_type": "code",
    "id": "iCCjgiVZgTSK",
    "outputId": "023a227c-d895-4fd9-ae83-9394fe48cebd"
   },
   "outputs": [],
   "source": [
    "# Special tokens\n",
    "PAD, EOS, UNK = 0, 1, 2\n",
    "\n",
    "def detokenize(np_array):\n",
    "    return trax.data.detokenize(\n",
    "        np_array,\n",
    "        vocab_type='sentencepiece',\n",
    "        vocab_file='sentencepiece.model',\n",
    "        vocab_dir='./models')\n",
    "\n",
    "def tokenize(s):\n",
    "  # The trax.data.tokenize function operates on streams,\n",
    "  # that's why we have to create 1-element stream with iter\n",
    "  # and later retrieve the result with next.\n",
    "    return next(trax.data.tokenize(\n",
    "        iter([s]),\n",
    "        vocab_type='sentencepiece',\n",
    "        vocab_file='sentencepiece.model',\n",
    "        vocab_dir='./models'))"
   ]
  },
  {
   "cell_type": "code",
   "execution_count": 8,
   "metadata": {
    "colab": {
     "base_uri": "https://localhost:8080/",
     "height": 54
    },
    "colab_type": "code",
    "id": "iCCjgiVZgTSK",
    "outputId": "023a227c-d895-4fd9-ae83-9394fe48cebd"
   },
   "outputs": [
    {
     "name": "stdout",
     "output_type": "stream",
     "text": [
      "[([12847, 277], b'Beginners'), ([15068], b'BBQ'), ([4501], b'Class'), ([3, 12297], b'Taking'), ([3399], b'Place'), ([16], b'in'), ([5964, 7115, 9, 55], b'Missoula!'), ([531], b'Do'), ([25], b'you'), ([241], b'want'), ([12], b'to'), ([129], b'get'), ([394], b'better'), ([44], b'at'), ([492], b'making'), ([3326], b'delicious'), ([15068, 58], b'BBQ?'), ([148], b'You'), ([56], b'will'), ([43], b'have'), ([8], b'the'), ([1004, 6], b'opportunity,'), ([474], b'put'), ([48], b'this'), ([30], b'on'), ([39], b'your'), ([4793], b'calendar'), ([230, 5], b'now.'), ([2721, 6], b'Thursday,'), ([1600], b'September'), ([1630, 727], b'22nd'), ([1715], b'join'), ([1150], b'World'), ([4501], b'Class'), ([15068], b'BBQ'), ([16127, 6], b'Champion,'), ([9137], b'Tony'), ([2659, 5595], b'Balay'), ([45], b'from'), ([301, 782, 3624], b'Lonestar'), ([14627, 15], b'Smoke'), ([12612, 277, 5], b'Rangers.'), ([216], b'He'), ([56], b'will'), ([36], b'be'), ([2119], b'teaching'), ([3, 9], b'a'), ([19529], b'beginner'), ([593], b'level'), ([853], b'class'), ([21], b'for'), ([921], b'everyone'), ([113], b'who'), ([2746], b'wants'), ([12], b'to'), ([129], b'get'), ([394], b'better'), ([28], b'with'), ([70], b'their'), ([17712], b'culinary'), ([1098, 5], b'skills.'), ([216], b'He'), ([56], b'will'), ([3884], b'teach'), ([25], b'you'), ([762], b'everything'), ([25], b'you'), ([174], b'need'), ([12], b'to'), ([214], b'know'), ([12], b'to'), ([5978], b'compete'), ([16], b'in'), ([3, 9], b'a'), ([3, 23405, 4547], b'KCBS'), ([15068], b'BBQ'), ([2259, 6], b'competition,'), ([379], b'including'), ([2097, 6], b'techniques,'), ([5459, 6], b'recipes,'), ([13618, 7, 6], b'timelines,'), ([3604], b'meat'), ([1801], b'selection'), ([11], b'and'), ([27856, 6], b'trimming,'), ([303], b'plus'), ([24190], b'smoker'), ([11], b'and'), ([1472], b'fire'), ([251, 5], b'information.'), ([37], b'The'), ([583], b'cost'), ([12], b'to'), ([36], b'be'), ([16], b'in'), ([8], b'the'), ([853], b'class'), ([19], b'is'), ([25264], b'$35'), ([399], b'per'), ([568, 6], b'person,'), ([11], b'and'), ([21], b'for'), ([21380, 7], b'spectators'), ([34], b'it'), ([19], b'is'), ([339, 5], b'free.'), ([15746, 26], b'Included'), ([16], b'in'), ([8], b'the'), ([583], b'cost'), ([56], b'will'), ([36], b'be'), ([893], b'either'), ([3, 9], b'a'), ([3, 17, 18, 9486], b't-shirt'), ([42], b'or'), ([3, 9, 1409, 29], b'apron'), ([11], b'and'), ([25], b'you'), ([56], b'will'), ([36], b'be'), ([12246], b'tasting'), ([5977], b'samples'), ([13], b'of'), ([284], b'each'), ([3604], b'meat'), ([24], b'that'), ([19], b'is'), ([2657, 5], b'prepared.')] \n",
      "\n"
     ]
    }
   ],
   "source": [
    "# printing the encoding of each word to see how subwords are tokenized\n",
    "tokenized_text = [(tokenize(word).tolist(), word) for word in natural_language_texts[0].split()]\n",
    "print(tokenized_text, '\\n')"
   ]
  },
  {
   "cell_type": "code",
   "execution_count": 9,
   "metadata": {},
   "outputs": [
    {
     "name": "stdout",
     "output_type": "stream",
     "text": [
      "tokenized: [12847   277]\n",
      "detokenized: Beginners\n"
     ]
    }
   ],
   "source": [
    "# We can see that detokenize successfully undoes the tokenization\n",
    "print(f\"tokenized: {tokenize('Beginners')}\\ndetokenized: {detokenize(tokenize('Beginners'))}\")"
   ]
  },
  {
   "cell_type": "markdown",
   "metadata": {
    "colab_type": "text",
    "id": "vPKgGOeOxv3w"
   },
   "source": [
    "As you can see above, you were able to take a piece of string and tokenize it. \n",
    "\n",
    "Now you will create `input` and `target` pairs that will allow you to train your model. T5 uses the ids at the end of the vocab file as sentinels. For example, it will replace: \n",
    "   - `vocab_size - 1` by `<Z>`\n",
    "   - `vocab_size - 2` by `<Y>`\n",
    "   - and so forth. \n",
    "   \n",
    "It assigns every word a `chr`.\n",
    "\n",
    "The `pretty_decode` function below, which you will use in a bit, helps in handling the type when decoding. Take a look and try to understand what the function is doing.\n",
    "\n",
    "\n",
    "Notice that:\n",
    "```python\n",
    "string.ascii_letters = 'abcdefghijklmnopqrstuvwxyzABCDEFGHIJKLMNOPQRSTUVWXYZ'\n",
    "```\n",
    "\n",
    "**NOTE:** Targets may have more than the 52 sentinels we replace, but this is just to give you an idea of things."
   ]
  },
  {
   "cell_type": "code",
   "execution_count": null,
   "metadata": {},
   "outputs": [],
   "source": []
  },
  {
   "cell_type": "code",
   "execution_count": 10,
   "metadata": {
    "colab": {},
    "colab_type": "code",
    "id": "fCPQL5FTxv3w"
   },
   "outputs": [],
   "source": [
    "vocab_size = trax.data.vocab_size(\n",
    "    vocab_type='sentencepiece',\n",
    "    vocab_file='sentencepiece.model',\n",
    "    vocab_dir='./models')\n",
    "\n",
    "def get_sentinels(vocab_size=32000, display=False):\n",
    "    sentinels = {}\n",
    "    for i, char in enumerate(reversed(string.ascii_letters), 1):\n",
    "        decoded_text = detokenize([vocab_size - i]) \n",
    "        \n",
    "        # Sentinels, ex: <Z> - <a>\n",
    "        sentinels[decoded_text] = f'<{char}>'    \n",
    "    \n",
    "        if display:\n",
    "            print(f'The sentinel is <{char}> and the decoded token is:', decoded_text)\n",
    "\n",
    "    return sentinels"
   ]
  },
  {
   "cell_type": "code",
   "execution_count": 11,
   "metadata": {
    "colab": {},
    "colab_type": "code",
    "id": "fCPQL5FTxv3w"
   },
   "outputs": [
    {
     "name": "stdout",
     "output_type": "stream",
     "text": [
      "The sentinel is <Z> and the decoded token is: Internațional\n",
      "The sentinel is <Y> and the decoded token is: erwachsene\n",
      "The sentinel is <X> and the decoded token is: Cushion\n",
      "The sentinel is <W> and the decoded token is: imunitar\n",
      "The sentinel is <V> and the decoded token is: Intellectual\n",
      "The sentinel is <U> and the decoded token is: traditi\n",
      "The sentinel is <T> and the decoded token is: disguise\n",
      "The sentinel is <S> and the decoded token is: exerce\n",
      "The sentinel is <R> and the decoded token is: nourishe\n",
      "The sentinel is <Q> and the decoded token is: predominant\n",
      "The sentinel is <P> and the decoded token is: amitié\n",
      "The sentinel is <O> and the decoded token is: erkennt\n",
      "The sentinel is <N> and the decoded token is: dimension\n",
      "The sentinel is <M> and the decoded token is: inférieur\n",
      "The sentinel is <L> and the decoded token is: refugi\n",
      "The sentinel is <K> and the decoded token is: cheddar\n",
      "The sentinel is <J> and the decoded token is: unterlieg\n",
      "The sentinel is <I> and the decoded token is: garanteaz\n",
      "The sentinel is <H> and the decoded token is: făcute\n",
      "The sentinel is <G> and the decoded token is: réglage\n",
      "The sentinel is <F> and the decoded token is: pedepse\n",
      "The sentinel is <E> and the decoded token is: Germain\n",
      "The sentinel is <D> and the decoded token is: distinctly\n",
      "The sentinel is <C> and the decoded token is: Schraub\n",
      "The sentinel is <B> and the decoded token is: emanat\n",
      "The sentinel is <A> and the decoded token is: trimestre\n",
      "The sentinel is <z> and the decoded token is: disrespect\n",
      "The sentinel is <y> and the decoded token is: Erasmus\n",
      "The sentinel is <x> and the decoded token is: Australia\n",
      "The sentinel is <w> and the decoded token is: permeabil\n",
      "The sentinel is <v> and the decoded token is: deseori\n",
      "The sentinel is <u> and the decoded token is: manipulated\n",
      "The sentinel is <t> and the decoded token is: suggér\n",
      "The sentinel is <s> and the decoded token is: corespund\n",
      "The sentinel is <r> and the decoded token is: nitro\n",
      "The sentinel is <q> and the decoded token is: oyons\n",
      "The sentinel is <p> and the decoded token is: Account\n",
      "The sentinel is <o> and the decoded token is: échéan\n",
      "The sentinel is <n> and the decoded token is: laundering\n",
      "The sentinel is <m> and the decoded token is: genealogy\n",
      "The sentinel is <l> and the decoded token is: QuickBooks\n",
      "The sentinel is <k> and the decoded token is: constituted\n",
      "The sentinel is <j> and the decoded token is: Fertigung\n",
      "The sentinel is <i> and the decoded token is: goutte\n",
      "The sentinel is <h> and the decoded token is: regulă\n",
      "The sentinel is <g> and the decoded token is: overwhelmingly\n",
      "The sentinel is <f> and the decoded token is: émerg\n",
      "The sentinel is <e> and the decoded token is: broyeur\n",
      "The sentinel is <d> and the decoded token is: povești\n",
      "The sentinel is <c> and the decoded token is: emulator\n",
      "The sentinel is <b> and the decoded token is: halloween\n",
      "The sentinel is <a> and the decoded token is: combustibil\n"
     ]
    }
   ],
   "source": [
    "sentinels = get_sentinels(vocab_size, display=True)"
   ]
  },
  {
   "cell_type": "code",
   "execution_count": 12,
   "metadata": {
    "colab": {},
    "colab_type": "code",
    "id": "fCPQL5FTxv3w"
   },
   "outputs": [],
   "source": [
    "def pretty_decode(encoded_str_list, sentinels):\n",
    "    # If already a string, just do the replacements.\n",
    "    if isinstance(encoded_str_list, (str, bytes)):\n",
    "        for token, char in sentinels.items():\n",
    "            encoded_str_list = encoded_str_list.replace(token, char)\n",
    "        return encoded_str_list\n",
    "  \n",
    "    # We need to decode and then prettyfy it.\n",
    "    return pretty_decode(detokenize(encoded_str_list), sentinels)"
   ]
  },
  {
   "cell_type": "code",
   "execution_count": 13,
   "metadata": {},
   "outputs": [
    {
     "data": {
      "text/plain": [
       "'I want to dress up as an <V> this <b>.'"
      ]
     },
     "execution_count": 13,
     "metadata": {},
     "output_type": "execute_result"
    }
   ],
   "source": [
    "pretty_decode(\"I want to dress up as an Intellectual this halloween.\", sentinels)"
   ]
  },
  {
   "cell_type": "markdown",
   "metadata": {
    "colab_type": "text",
    "id": "Y64F--Nzxv30"
   },
   "source": [
    "The functions above make your `inputs` and `targets` more readable. For example, you might see something like this once you implement the masking function below. \n",
    "\n",
    "- <span style=\"color:red\"> Input sentence: </span> Younes and Lukasz were working together in the lab yesterday after lunch. \n",
    "- <span style=\"color:red\">Input: </span> Younes and Lukasz  **Z** together in the **Y** yesterday after lunch.\n",
    "- <span style=\"color:red\">Target: </span> **Z** were working **Y** lab.\n"
   ]
  },
  {
   "cell_type": "markdown",
   "metadata": {
    "colab_type": "text",
    "id": "NvvNd7n6xv30"
   },
   "source": [
    "<a name='1.3'></a>\n",
    "### 1.3 Tokenizing and Masking\n",
    "\n",
    "You will now implement the `tokenize_and_mask` function. This function  will allow you to tokenize and mask input words with a noise probability. We usually mask 15% of the words."
   ]
  },
  {
   "cell_type": "markdown",
   "metadata": {},
   "source": [
    "<a name='ex01'></a>\n",
    "### Exercise 01"
   ]
  },
  {
   "cell_type": "code",
   "execution_count": 14,
   "metadata": {
    "colab": {},
    "colab_type": "code",
    "id": "Bi33WKgRxv31"
   },
   "outputs": [],
   "source": [
    "# GRADED FUNCTION: tokenize_and_mask\n",
    "def tokenize_and_mask(text, vocab_size=32000, noise=0.15, \n",
    "                      randomizer=np.random.uniform, tokenize=tokenize):\n",
    "    \"\"\"Tokenizes and masks a given input.\n",
    "\n",
    "    Args:\n",
    "        text (str or bytes): Text input.\n",
    "        vocab_size (int, optional): Size of the vocabulary. Defaults to vocab_size.\n",
    "        noise (float, optional): Probability of masking a token. Defaults to 0.15.\n",
    "        randomizer (function, optional): Function that generates random values. Defaults to np.random.uniform.\n",
    "        tokenize (function, optional): Tokenizer function. Defaults to tokenize.\n",
    "\n",
    "    Returns:\n",
    "        tuple: Tuple of lists of integers associated to inputs and targets.\n",
    "    \"\"\"\n",
    "    \n",
    "    # current sentinel number (starts at 0)\n",
    "    cur_sentinel_num = 0\n",
    "    # inputs\n",
    "    inps = []\n",
    "    # targets\n",
    "    targs = []\n",
    "    \n",
    "    ### START CODE HERE ###\n",
    "    \n",
    "    # prev_no_mask is True if the previous token was NOT masked, False otherwise\n",
    "    # set prev_no_mask to True\n",
    "    prev_no_mask = True\n",
    "    \n",
    "    # loop through tokenized `text`\n",
    "    for token in tokenize(text):\n",
    "        # check if the `noise` is greater than a random value (weighted coin flip)\n",
    "        if randomizer() < noise:\n",
    "            # check to see if the previous token was not masked\n",
    "            if prev_no_mask==True: # add new masked token at end_id\n",
    "                # number of masked tokens increases by 1\n",
    "                cur_sentinel_num += 1\n",
    "                # compute `end_id` by subtracting current sentinel value out of the total vocabulary size\n",
    "                end_id = vocab_size - cur_sentinel_num\n",
    "                # append `end_id` at the end of the targets\n",
    "                targs.append(end_id)\n",
    "                # append `end_id` at the end of the inputs\n",
    "                inps.append(end_id)\n",
    "            # append `token` at the end of the targets\n",
    "            targs.append(token)\n",
    "            # set prev_no_mask accordingly\n",
    "            prev_no_mask = False\n",
    "        \n",
    "        else: # don't have two masked tokens in a row\n",
    "            # append `token ` at the end of the inputs\n",
    "            inps.append(token)\n",
    "            # set prev_no_mask accordingly\n",
    "            prev_no_mask = True\n",
    "            \n",
    "    ### END CODE HERE ###\n",
    "    \n",
    "    return inps, targs"
   ]
  },
  {
   "cell_type": "code",
   "execution_count": 15,
   "metadata": {
    "colab": {
     "base_uri": "https://localhost:8080/",
     "height": 122
    },
    "colab_type": "code",
    "id": "OlPySQo9xv34",
    "outputId": "2b0dc5e4-8d58-4eb0-a146-0c9f158264ac"
   },
   "outputs": [
    {
     "name": "stdout",
     "output_type": "stream",
     "text": [
      "input string:\n",
      "\n",
      "b'Beginners BBQ Class Taking Place in Missoula!\\nDo you want to get better at making delicious BBQ? You will have the opportunity, put this on your calendar now. Thursday, September 22nd join World Class BBQ Champion, Tony Balay from Lonestar Smoke Rangers. He will be teaching a beginner level class for everyone who wants to get better with their culinary skills.\\nHe will teach you everything you need to know to compete in a KCBS BBQ competition, including techniques, recipes, timelines, meat selection and trimming, plus smoker and fire information.\\nThe cost to be in the class is $35 per person, and for spectators it is free. Included in the cost will be either a t-shirt or apron and you will be tasting samples of each meat that is prepared.'\n",
      "\n",
      "tokenized inputs:\n",
      "\n",
      "[31999, 15068, 4501, 3, 12297, 3399, 16, 5964, 7115, 31998, 531, 25, 241, 12, 129, 394, 44, 492, 31997, 58, 148, 56, 43, 8, 1004, 6, 474, 31996, 39, 4793, 230, 5, 2721, 6, 1600, 1630, 31995, 1150, 4501, 15068, 16127, 6, 9137, 2659, 5595, 31994, 782, 3624, 14627, 15, 12612, 277, 5, 216, 31993, 2119, 3, 9, 19529, 593, 853, 21, 921, 31992, 12, 129, 394, 28, 70, 17712, 1098, 5, 31991, 3884, 25, 762, 25, 174, 12, 214, 12, 31990, 3, 9, 3, 23405, 4547, 15068, 2259, 6, 31989, 6, 5459, 6, 13618, 7, 6, 3604, 1801, 31988, 6, 303, 24190, 11, 1472, 251, 5, 37, 31987, 36, 16, 8, 853, 19, 25264, 399, 568, 31986, 21, 21380, 7, 34, 19, 339, 5, 15746, 31985, 8, 583, 56, 36, 893, 3, 9, 3, 31984, 9486, 42, 3, 9, 1409, 29, 11, 25, 31983, 12246, 5977, 13, 284, 3604, 24, 19, 2657, 31982]\n",
      "\n",
      "targets:\n",
      "\n",
      "[31999, 12847, 277, 31998, 9, 55, 31997, 3326, 15068, 31996, 48, 30, 31995, 727, 1715, 31994, 45, 301, 31993, 56, 36, 31992, 113, 2746, 31991, 216, 56, 31990, 5978, 16, 31989, 379, 2097, 31988, 11, 27856, 31987, 583, 12, 31986, 6, 11, 31985, 26, 16, 31984, 17, 18, 31983, 56, 36, 31982, 5]\n"
     ]
    }
   ],
   "source": [
    "# Some logic to mock a np.random value generator\n",
    "# Needs to be in the same cell for it to always generate same output\n",
    "def testing_rnd():\n",
    "    def dummy_generator():\n",
    "        vals = np.linspace(0, 1, 10)\n",
    "        cyclic_vals = itertools.cycle(vals)\n",
    "        for _ in range(100):\n",
    "            yield next(cyclic_vals)\n",
    "\n",
    "    dumr = itertools.cycle(dummy_generator())\n",
    "\n",
    "    def dummy_randomizer():\n",
    "        return next(dumr)\n",
    "    \n",
    "    return dummy_randomizer\n",
    "\n",
    "input_str = natural_language_texts[0]\n",
    "print(f\"input string:\\n\\n{input_str}\\n\")\n",
    "inps, targs = tokenize_and_mask(input_str, randomizer=testing_rnd())\n",
    "print(f\"tokenized inputs:\\n\\n{inps}\\n\")\n",
    "print(f\"targets:\\n\\n{targs}\")"
   ]
  },
  {
   "cell_type": "markdown",
   "metadata": {},
   "source": [
    "#### **Expected Output:**\n",
    "```CPP\n",
    "b'Beginners BBQ Class Taking Place in Missoula!\\nDo you want to get better at making delicious BBQ? You will have the opportunity, put this on your calendar now. Thursday, September 22nd join World Class BBQ Champion, Tony Balay from Lonestar Smoke Rangers. He will be teaching a beginner level class for everyone who wants to get better with their culinary skills.\\nHe will teach you everything you need to know to compete in a KCBS BBQ competition, including techniques, recipes, timelines, meat selection and trimming, plus smoker and fire information.\\nThe cost to be in the class is $35 per person, and for spectators it is free. Included in the cost will be either a t-shirt or apron and you will be tasting samples of each meat that is prepared.'\n",
    "\n",
    "tokenized inputs:\n",
    "\n",
    "[31999, 15068, 4501, 3, 12297, 3399, 16, 5964, 7115, 31998, 531, 25, 241, 12, 129, 394, 44, 492, 31997, 58, 148, 56, 43, 8, 1004, 6, 474, 31996, 39, 4793, 230, 5, 2721, 6, 1600, 1630, 31995, 1150, 4501, 15068, 16127, 6, 9137, 2659, 5595, 31994, 782, 3624, 14627, 15, 12612, 277, 5, 216, 31993, 2119, 3, 9, 19529, 593, 853, 21, 921, 31992, 12, 129, 394, 28, 70, 17712, 1098, 5, 31991, 3884, 25, 762, 25, 174, 12, 214, 12, 31990, 3, 9, 3, 23405, 4547, 15068, 2259, 6, 31989, 6, 5459, 6, 13618, 7, 6, 3604, 1801, 31988, 6, 303, 24190, 11, 1472, 251, 5, 37, 31987, 36, 16, 8, 853, 19, 25264, 399, 568, 31986, 21, 21380, 7, 34, 19, 339, 5, 15746, 31985, 8, 583, 56, 36, 893, 3, 9, 3, 31984, 9486, 42, 3, 9, 1409, 29, 11, 25, 31983, 12246, 5977, 13, 284, 3604, 24, 19, 2657, 31982]\n",
    "\n",
    "targets:\n",
    "\n",
    "[31999, 12847, 277, 31998, 9, 55, 31997, 3326, 15068, 31996, 48, 30, 31995, 727, 1715, 31994, 45, 301, 31993, 56, 36, 31992, 113, 2746, 31991, 216, 56, 31990, 5978, 16, 31989, 379, 2097, 31988, 11, 27856, 31987, 583, 12, 31986, 6, 11, 31985, 26, 16, 31984, 17, 18, 31983, 56, 36, 31982, 5]\n",
    "```"
   ]
  },
  {
   "cell_type": "code",
   "execution_count": 16,
   "metadata": {
    "colab": {
     "base_uri": "https://localhost:8080/",
     "height": 105
    },
    "colab_type": "code",
    "id": "y6xwo6lGxv37",
    "outputId": "4330ae1e-1805-40c9-daf3-c6bbe92d957b"
   },
   "outputs": [
    {
     "name": "stdout",
     "output_type": "stream",
     "text": [
      "Inputs: \n",
      "\n",
      " <Z> BBQ Class Taking Place in Missoul <Y> Do you want to get better at making <X>? You will have the opportunity, put <W> your calendar now. Thursday, September 22 <V> World Class BBQ Champion, Tony Balay <U>onestar Smoke Rangers. He <T> teaching a beginner level class for everyone<S> to get better with their culinary skills.<R> teach you everything you need to know to <Q> a KCBS BBQ competition,<P>, recipes, timelines, meat selection <O>, plus smoker and fire information. The<N> be in the class is $35 per person <M> for spectators it is free. Include <L> the cost will be either a  <K>shirt or apron and you <J> tasting samples of each meat that is prepared <I>\n",
      "\n",
      "Targets: \n",
      "\n",
      " <Z> Beginners <Y>a! <X> delicious BBQ <W> this on <V>nd join <U> from L <T> will be<S> who wants<R> He will <Q> compete in<P> including techniques <O> and trimming<N> cost to <M>, and <L>d in <K>t- <J> will be <I>.\n"
     ]
    }
   ],
   "source": [
    "print('Inputs: \\n\\n', pretty_decode(inps, sentinels))\n",
    "print('\\nTargets: \\n\\n', pretty_decode(targs, sentinels))"
   ]
  },
  {
   "cell_type": "markdown",
   "metadata": {
    "colab_type": "text",
    "id": "_omCqbkLxv36"
   },
   "source": [
    "You will now use the inputs and the targets from the `tokenize_and_mask` function you implemented above. Take a look at the masked sentence using your `inps` and `targs` from the sentence above. "
   ]
  },
  {
   "cell_type": "code",
   "execution_count": 17,
   "metadata": {},
   "outputs": [
    {
     "name": "stdout",
     "output_type": "stream",
     "text": [
      "\u001b[92m All tests passed\n"
     ]
    }
   ],
   "source": [
    "# UNIT TEST\n",
    "# test tokenize_and_mask\n",
    "w3_tests.test_tokenize_and_mask(tokenize_and_mask)"
   ]
  },
  {
   "cell_type": "markdown",
   "metadata": {
    "colab_type": "text",
    "id": "24HZiIBLxv3-"
   },
   "source": [
    "<a name='1.4'></a>\n",
    "### 1.4 Creating the Pairs\n",
    "\n",
    "You will now create pairs using your dataset. You will iterate over your data and create (inp, targ) pairs using the functions that we have given you. "
   ]
  },
  {
   "cell_type": "code",
   "execution_count": 18,
   "metadata": {},
   "outputs": [],
   "source": [
    "# Apply tokenize_and_mask\n",
    "inputs_targets_pairs = [tokenize_and_mask(text) for text in natural_language_texts]"
   ]
  },
  {
   "cell_type": "code",
   "execution_count": 19,
   "metadata": {
    "colab": {
     "base_uri": "https://localhost:8080/",
     "height": 1000
    },
    "colab_type": "code",
    "id": "c1HiKreWokhs",
    "outputId": "fc194524-41de-4d3b-87d9-ae35c29c9f79"
   },
   "outputs": [],
   "source": [
    "def display_input_target_pairs(inputs_targets_pairs, sentinels, wrapper=textwrap.TextWrapper(width=70)):\n",
    "    for i, inp_tgt_pair in enumerate(inputs_targets_pairs, 1):\n",
    "        inps, tgts = inp_tgt_pair\n",
    "        inps, tgts = pretty_decode(inps, sentinels), pretty_decode(tgts, sentinels)\n",
    "        print(f'[{i}]\\n\\n'\n",
    "              f'inputs:\\n{wrapper.fill(text=inps)}\\n\\n'\n",
    "              f'targets:\\n{wrapper.fill(text=tgts)}\\n\\n\\n\\n')"
   ]
  },
  {
   "cell_type": "code",
   "execution_count": 20,
   "metadata": {},
   "outputs": [
    {
     "name": "stdout",
     "output_type": "stream",
     "text": [
      "[1]\n",
      "\n",
      "inputs:\n",
      "Beginners BBQ Class Taking Place in Missoula! Do you <Z> to get better\n",
      "at making delicious BBQ? You will have the opportunity, put this on\n",
      "your calendar now. Thursday, September 22nd join World Class <Y>\n",
      "Champion, Tony Ba <X> from Lone <W>e Rangers. He will be teaching  <V>\n",
      "beginner level class for everyone who wants <U> get better with their\n",
      "culinary <T>. He<S> teach you everything you<R> to know to compete in\n",
      "a KCBS BBQ competition, including techniques, <Q>, timelines,<P>\n",
      "selection and <O>, plus smoker and fire information. The cost to be in\n",
      "the class is $35 per<N> and for <M>s it <L> free. <K>d in <J> will be\n",
      "either a t-shirt or  <I>pron and you will be tasting samples of each\n",
      "meat that is prepared.\n",
      "\n",
      "targets:\n",
      "<Z> want <Y> BBQ <X>lay <W>star Smok <V>a <U> to <T> skills<S> will<R>\n",
      "need <Q> recipes<P> meat <O> trimming<N> person, <M> spectator <L> is\n",
      "<K> Include <J> the cost <I>a\n",
      "\n",
      "\n",
      "\n",
      "\n",
      "[2]\n",
      "\n",
      "inputs:\n",
      "Discussion in ' <Z> OS X Lion (10.7) <Y> axboi87, Jan 20, 2012. I've\n",
      "<X> a 500gb internal drive and <W>a 240gb SSD. When trying to restore\n",
      "using <V> utility i'm given <U> error \"Not enough space <T> disk\n",
      "<S>___ to restore\"<R> I shouldn't have to do that!!! Any ideas or\n",
      "workarounds before resort <Q> the above<P> Use Carbon <O> Cloner to\n",
      "copy one drive to the other. I've done this several times<N> from\n",
      "larger HD <M> to <L> I <K> up with a bootable SSD drive <J> One <I>\n",
      "you have<H> remember not to skip is to use Disk Utility to partition\n",
      "the SSD as GUID partition scheme HFS+ before<G> the clone. If it came\n",
      "Apple <F>ition Scheme,<E>if you let CCC do the clone, the resulting\n",
      "drive won't be bootable.<D>CC<C> works in \"file mode\" <B> can <A> copy\n",
      "a larger drive (that <z> mostly empty) onto a smaller drive. If <y>\n",
      "tell C<x> to<w>clone a drive you did NOT<v> from, it can work in block\n",
      "copy mode<u> the destination drive must be the same size or larger\n",
      "than the drive you <t> cloning from (if I recall). I've actually done\n",
      "this somehow on Disk Utility several times (booting from a different\n",
      "drive ( <s> even the dvd) so<r> disk utility from<q> your cloning)\n",
      "and<p> work just fine from larger <o> smaller bootable clone <n>\n",
      "Definitely <m> the drive clo <l>ing to<k>, <j> boot<i> Apple etc..\n",
      "Thanks for pointing this<h> My only<g> using DU to go larger to <f>\n",
      "was when I was trying<e> make a Lion install <d> and <c> was unable to\n",
      "restore InstallESD.dmg to a 4 GB USB stick but of <b> the reason that\n",
      "wouldn't fit is there was <a> more than Théâtre GB of data.\n",
      "\n",
      "targets:\n",
      "<Z>Mac <Y>' started by <X> got <W>  <V> disk <U> the <T> on<S>_<R> But\n",
      "<Q>ing to<P>? <O> Copy<N> going <M>D <L> smaller SSD and <K> wound\n",
      "<J>. <I> step<H> to<G> doing <F> Part<E> even <D> C<C> usually <B> and\n",
      "it <A> easily <z>'s <y> you<x>CC<w> <v> boot<u> where <t> are <s>or<r>\n",
      "not running<q> the drive<p> had it <o> to <n>. <m> format <l>n<k>\n",
      "first <j> as<i>able<h> out.<g> experience <f> smaller<e> to <d> stick\n",
      "<c> I <b> course <a> slightly Théâtre 4\n",
      "\n",
      "\n",
      "\n",
      "\n",
      "[3]\n",
      "\n",
      "inputs:\n",
      "<Z>il plaid lycra and span <Y>ex shortall with metallic slink <X>\n",
      "inset <W>. Attached metallic elastic belt with O <V>ring. Headband\n",
      "included. <U> hip <T> jazz dance costume.<S> in the USA.\n",
      "\n",
      "targets:\n",
      "<Z> Fo <Y>d <X>y <W>s <V>- <U> Great <T> hop or<S> Made\n",
      "\n",
      "\n",
      "\n",
      "\n",
      "[4]\n",
      "\n",
      "inputs:\n",
      "<Z> many backlinks per day for new site <Y> Discussion in <X>'Black\n",
      "Hat SEO' started by Omopla <W>a, Dec 3, 2010. 1) for <V>a newly\n",
      "created site, what's the max # backlinks per <U> I should do to be\n",
      "safe? 2) how <T> do I have to let my site age before I can start\n",
      "making<S>s? I did about 6000 forum profiles every 24 hours for 10 days\n",
      "for one of my sites<R> had a brand new <Q> There is three back<P>s for\n",
      "every of these forum profile so thats 18 000 <O>links every<N> hours\n",
      "and nothing happened in terms <M> being <L>ized or  <K>andbox <J>d <I>\n",
      "This is now<H> 3 months ago and the<G> is ranking on first page <F> a\n",
      "lot of my targeted keywords. build more you can in starting but do\n",
      "manual submission and not spammy type means manual +<E> to the\n",
      "post.<D> then after 1 month<C> can make  <B> big blast.. Wow, dude,\n",
      "you <A> 18k backlinks a day on  <z> brand new site? How quickly did\n",
      "you rank up? What kind of competition/search <y>s did those keywords\n",
      "have?\n",
      "\n",
      "targets:\n",
      "<Z> How <Y>? <X>  <W>t <V>  <U> day <T> long<S> more blink<R> which\n",
      "<Q> domain.<P>link <O> back<N> 24 <M> of <L> penal <K>s <J>e <I>.<H>\n",
      "maybe<G> site <F> for<E> relevant<D>.<C> you <B>a <A> built <z>a <y>e\n",
      "\n",
      "\n",
      "\n",
      "\n",
      "[5]\n",
      "\n",
      "inputs:\n",
      "The Denver Board of Education opened the <Z>-18 school year with an\n",
      "<Y> on projects <X> include new <W>, upgrades, <V> mitigation and\n",
      "quality learning environments. We <U> that <T> students will be the\n",
      "beneficiaries<S> a four year, $572 million General Obligation Bond.\n",
      "Since the passage of the<R>, our construction team has worked to <Q>\n",
      "the projects over the four-year term of the<P>. Denver voters on\n",
      "Tuesday approved bond and mill <O> measures for students in Denver\n",
      "Public Schools, agreeing to invest $5<N> million in <M> funding to\n",
      "build and improve schools and $56.6 million in operating dollars to\n",
      "<L> proven initiatives, such as early literacy. Denver voters say <K>\n",
      "to bond and mill levy <J> support for D <I> students and schools.\n",
      "Click to learn more about<H> details of the voter-approved bond\n",
      "measure. Denver voters on<G>. 8 approved bond and mill funding\n",
      "measures for DPS students and schools. Learn more about <F>’s included\n",
      "in the mill <E>.\n",
      "\n",
      "targets:\n",
      "<Z> 2017 <Y> update <X> that <W> construction <V> heat <U> are excited\n",
      "<T> Denver<S> of<R> bond <Q> schedule<P> bond <O> funding<N>72 <M>\n",
      "bond <L> support <K> yes <J> funding <I>PS<H> the<G> Nov <F>\n",
      "what<E>levy measure\n",
      "\n",
      "\n",
      "\n",
      "\n"
     ]
    }
   ],
   "source": [
    "display_input_target_pairs(inputs_targets_pairs, sentinels, wrapper)"
   ]
  },
  {
   "cell_type": "markdown",
   "metadata": {
    "colab_type": "text",
    "id": "hQI5Jgov5X-d"
   },
   "source": [
    "<a name='2'></a>\n",
    "# Part 2: Transfomer\n",
    "\n",
    "We now load a Transformer model checkpoint that has been pre-trained using the above C4 dataset and decode from it. This will save you a lot of time rather than have to train your model yourself. Later in this notebook, we will show you how to fine-tune your model.\n",
    "<!DOCTYPE html><html><head><meta name=\"viewport\" content=\"width=device-width, initial-scale=1\"><style>img{display: block; margin-left: auto; margin-right: auto;}</style></head><body><img src=\"data:image/png;base64,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\" alt=\"fulltransformer.png\" style=\"max-width:100%;\"></body></html>\n",
    "\n",
    "<img src = \"images/fulltransformer.png\" width=\"300\" height=\"600\">\n",
    "\n",
    "Start by loading in the model. We copy the checkpoint to local dir for speed, otherwise initialization takes a very long time. Last week you implemented the decoder part for the transformer. Now you will implement the encoder part. Concretely you will implement the following. \n",
    "\n",
    "\n",
    "<img src = \"images/encoder.png\" width=\"300\" height=\"600\">\n",
    "\n"
   ]
  },
  {
   "cell_type": "markdown",
   "metadata": {
    "colab_type": "text",
    "id": "6_0z9QS-xv4G"
   },
   "source": [
    "<a name='2.1'></a>\n",
    "### 2.1 Transformer Encoder\n",
    "\n",
    "You will now implement the transformer encoder. Concretely you will implement two functions. The first function is `FeedForwardBlock`.\n",
    "\n",
    "<a name='2.1.1'></a>\n",
    "#### 2.1.1 The Feedforward Block\n",
    "\n",
    "The `FeedForwardBlock` function is an important one so you will start by implementing it. To do so, you need to return a list of the following: \n",
    "\n",
    "- [`tl.LayerNorm()`](https://trax-ml.readthedocs.io/en/latest/trax.layers.html#trax.layers.normalization.LayerNorm) = layer normalization.\n",
    "- [`tl.Dense(d_ff)`](https://trax-ml.readthedocs.io/en/latest/trax.layers.html#trax.layers.core.Dense) = fully connected layer.\n",
    "- [`activation`](https://trax-ml.readthedocs.io/en/latest/trax.layers.html#trax.layers.activation_fns.Relu) = activation relu, tanh, sigmoid etc. \n",
    "- `dropout_middle` = we gave you this function (don't worry about its implementation).\n",
    "- [`tl.Dense(d_model)`](https://trax-ml.readthedocs.io/en/latest/trax.layers.html#trax.layers.core.Dense) = fully connected layer with same dimension as the model.\n",
    "- `dropout_final` = we gave you this function (don't worry about its implementation).\n",
    "\n",
    "You can always take a look at [trax documentation](https://trax-ml.readthedocs.io/en/latest/) if needed.\n",
    "\n",
    "**Instructions**: Implement the feedforward part of the transformer. You will be returning a list. "
   ]
  },
  {
   "cell_type": "markdown",
   "metadata": {},
   "source": [
    "<a name='ex02'></a>\n",
    "### Exercise 02"
   ]
  },
  {
   "cell_type": "code",
   "execution_count": 21,
   "metadata": {
    "colab": {},
    "colab_type": "code",
    "id": "eScMhEG7xv4H"
   },
   "outputs": [],
   "source": [
    "# GRADED FUNCTION: FeedForwardBlock\n",
    "def FeedForwardBlock(d_model, d_ff, dropout, dropout_shared_axes, mode, activation):\n",
    "    \"\"\"Returns a list of layers implementing a feed-forward block.\n",
    "    Args:\n",
    "        d_model: int:  depth of embedding\n",
    "        d_ff: int: depth of feed-forward layer\n",
    "        dropout: float: dropout rate (how much to drop out)\n",
    "        dropout_shared_axes: list of integers, axes to share dropout mask\n",
    "        mode: str: 'train' or 'eval'\n",
    "        activation: the non-linearity in feed-forward layer\n",
    "    Returns:\n",
    "        A list of layers which maps vectors to vectors.\n",
    "    \"\"\"\n",
    "    \n",
    "    dropout_middle = tl.Dropout(rate=dropout,\n",
    "                                shared_axes=dropout_shared_axes, \n",
    "                                mode=mode)\n",
    "  \n",
    "    dropout_final = tl.Dropout(rate=dropout, \n",
    "                               shared_axes=dropout_shared_axes, \n",
    "                               mode=mode)\n",
    "\n",
    "    ### START CODE HERE ###\n",
    "    \n",
    "    ff_block = [ \n",
    "        # trax Layer normalization \n",
    "        tl.LayerNorm(),\n",
    "        # trax Dense layer using `d_ff`\n",
    "        tl.Dense(d_ff),\n",
    "        # activation() layer - you need to call (use parentheses) this func!\n",
    "        activation(),\n",
    "        # dropout middle layer\n",
    "        dropout_middle,\n",
    "        # trax Dense layer using `d_model`\n",
    "        tl.Dense(d_model),\n",
    "        # dropout final layer\n",
    "        dropout_final,\n",
    "    ]\n",
    "    \n",
    "    ### END CODE HERE ###\n",
    "    \n",
    "    return ff_block"
   ]
  },
  {
   "cell_type": "code",
   "execution_count": 22,
   "metadata": {
    "colab": {
     "base_uri": "https://localhost:8080/",
     "height": 34
    },
    "colab_type": "code",
    "id": "Rm29o7jJxv4K",
    "outputId": "0ea9ddf6-f2e0-4b96-edb7-3b04d869295a"
   },
   "outputs": [
    {
     "name": "stdout",
     "output_type": "stream",
     "text": [
      "[LayerNorm, Dense_2048, Serial[\n",
      "  Relu\n",
      "], Dropout, Dense_512, Dropout]\n"
     ]
    }
   ],
   "source": [
    "# Print the block layout\n",
    "feed_forward_example = FeedForwardBlock(d_model=512, d_ff=2048, dropout=0.8, dropout_shared_axes=0, mode = 'train', activation = tl.Relu)\n",
    "print(feed_forward_example)"
   ]
  },
  {
   "cell_type": "markdown",
   "metadata": {},
   "source": [
    "#### **Expected Output:**\n",
    "```CPP\n",
    " [LayerNorm, Dense_2048, Serial[\n",
    "  Relu\n",
    " ], Dropout, Dense_512, Dropout]\n",
    "```"
   ]
  },
  {
   "cell_type": "code",
   "execution_count": 23,
   "metadata": {},
   "outputs": [
    {
     "data": {
      "text/plain": [
       "[LayerNorm,\n",
       " Dense_64,\n",
       " Serial[\n",
       "   Relu\n",
       " ],\n",
       " Dropout,\n",
       " Dense_16,\n",
       " Dropout]"
      ]
     },
     "execution_count": 23,
     "metadata": {},
     "output_type": "execute_result"
    }
   ],
   "source": [
    "FeedForwardBlock(d_model=16, d_ff=64, dropout=0.1, dropout_shared_axes=0, mode = 'train', activation = tl.Relu)"
   ]
  },
  {
   "cell_type": "code",
   "execution_count": 24,
   "metadata": {},
   "outputs": [
    {
     "data": {
      "text/plain": [
       "[trax.layers.normalization.LayerNorm,\n",
       " trax.layers.core.Dense,\n",
       " trax.layers.combinators.Serial,\n",
       " trax.layers.core.Dropout,\n",
       " trax.layers.core.Dense,\n",
       " trax.layers.core.Dropout]"
      ]
     },
     "execution_count": 24,
     "metadata": {},
     "output_type": "execute_result"
    }
   ],
   "source": [
    "test_func = lambda x: list((map(type, x)))\n",
    "test_func(FeedForwardBlock(d_model=16, d_ff=64, dropout=0.1, dropout_shared_axes=0, mode = 'train', activation = tl.Relu))"
   ]
  },
  {
   "cell_type": "code",
   "execution_count": 25,
   "metadata": {},
   "outputs": [
    {
     "name": "stdout",
     "output_type": "stream",
     "text": [
      "\u001b[92m All tests passed\n"
     ]
    }
   ],
   "source": [
    "# UNIT TEST\n",
    "# test tokenize_and_mask\n",
    "w3_tests.test_FeedForwardBlock(FeedForwardBlock)"
   ]
  },
  {
   "cell_type": "markdown",
   "metadata": {
    "colab_type": "text",
    "id": "tYkgtFw8xv4N"
   },
   "source": [
    "<a name='2.1.2'></a>\n",
    "#### 2.1.2 The Encoder Block\n",
    "\n",
    "The encoder block will use the `FeedForwardBlock`. \n",
    "\n",
    "You will have to build two residual connections. Inside the first residual connection you will have the `tl.LayerNorm()`, `attention`, and `dropout_` layers. The second residual connection will have the `feed_forward`.  \n",
    "\n",
    "You will also need to implement `feed_forward`, `attention` and `dropout_` blocks. \n",
    "\n",
    "So far you haven't seen the [`tl.Attention()`](https://trax-ml.readthedocs.io/en/latest/trax.layers.html#trax.layers.attention.Attention) and [`tl.Residual()`](https://trax-ml.readthedocs.io/en/latest/trax.layers.html#trax.layers.combinators.Residual) layers so you can check the docs by clicking on them."
   ]
  },
  {
   "cell_type": "markdown",
   "metadata": {},
   "source": [
    "<a name='ex03'></a>\n",
    "### Exercise 03"
   ]
  },
  {
   "cell_type": "code",
   "execution_count": 42,
   "metadata": {
    "colab": {},
    "colab_type": "code",
    "id": "qlbZUoSlxv4O"
   },
   "outputs": [],
   "source": [
    "# GRADED FUNCTION: EncoderBlock\n",
    "def EncoderBlock(d_model, d_ff, n_heads, dropout, dropout_shared_axes,\n",
    "                  mode, ff_activation, FeedForwardBlock=FeedForwardBlock):\n",
    "    \"\"\"\n",
    "    Returns a list of layers that implements a Transformer encoder block.\n",
    "    The input to the layer is a pair, (activations, mask), where the mask was\n",
    "    created from the original source tokens to prevent attending to the padding\n",
    "    part of the input.\n",
    "    \n",
    "    Args:\n",
    "        d_model (int): depth of embedding.\n",
    "        d_ff (int): depth of feed-forward layer.\n",
    "        n_heads (int): number of attention heads.\n",
    "        dropout (float): dropout rate (how much to drop out).\n",
    "        dropout_shared_axes (int): axes on which to share dropout mask.\n",
    "        mode (str): 'train' or 'eval'.\n",
    "        ff_activation (function): the non-linearity in feed-forward layer.\n",
    "        FeedForwardBlock (function): A function that returns the feed forward block.\n",
    "    Returns:\n",
    "        list: A list of layers that maps (activations, mask) to (activations, mask).\n",
    "        \n",
    "    \"\"\"\n",
    "    \n",
    "    ### START CODE HERE ###\n",
    "    \n",
    "    # Attention block\n",
    "    attention = tl.Attention( \n",
    "        # Use dimension of the model\n",
    "        d_feature=d_model,\n",
    "        # Set it equal to number of attention heads\n",
    "        n_heads=n_heads,\n",
    "        # Set it equal `dropout`\n",
    "        dropout=dropout,\n",
    "        # Set it equal `mode`\n",
    "        mode=mode\n",
    "    )\n",
    "    \n",
    "    # Call the function `FeedForwardBlock` (implemented before) and pass in the parameters\n",
    "    feed_forward = FeedForwardBlock( \n",
    "        d_model=d_model,\n",
    "        d_ff=d_ff,\n",
    "        dropout=dropout,\n",
    "        dropout_shared_axes=dropout_shared_axes,\n",
    "        mode = mode,\n",
    "        activation = ff_activation\n",
    "    )\n",
    "    \n",
    "    # Dropout block\n",
    "    dropout_ = tl.Dropout( \n",
    "        # set it equal to `dropout`\n",
    "        rate=dropout,\n",
    "        # set it equal to the axes on which to share dropout mask\n",
    "        shared_axes=dropout_shared_axes,\n",
    "        # set it equal to `mode`\n",
    "        mode=mode\n",
    "    )\n",
    "    \n",
    "    encoder_block = [ \n",
    "        # add `Residual` layer\n",
    "        tl.Residual(\n",
    "            # add norm layer\n",
    "            tl.LayerNorm(),\n",
    "            # add attention\n",
    "            attention,\n",
    "            # add dropout\n",
    "            dropout_,\n",
    "        ),\n",
    "        # add another `Residual` layer\n",
    "        tl.Residual(\n",
    "            # add feed forward\n",
    "            feed_forward,\n",
    "        ),\n",
    "    ]\n",
    "    \n",
    "    ### END CODE HERE ###\n",
    "    \n",
    "    return encoder_block"
   ]
  },
  {
   "cell_type": "code",
   "execution_count": 43,
   "metadata": {
    "colab": {},
    "colab_type": "code",
    "id": "axUxt39qxv4R"
   },
   "outputs": [
    {
     "name": "stdout",
     "output_type": "stream",
     "text": [
      "[Serial_in2_out2[\n",
      "  Branch_in2_out3[\n",
      "    None\n",
      "    Serial_in2_out2[\n",
      "      LayerNorm\n",
      "      Serial_in2_out2[\n",
      "        _in2_out2\n",
      "        Serial_in2_out2[\n",
      "          Select[0,0,0]_out3\n",
      "          Serial_in4_out2[\n",
      "            _in4_out4\n",
      "            Serial_in4_out2[\n",
      "              Parallel_in3_out3[\n",
      "                Dense_512\n",
      "                Dense_512\n",
      "                Dense_512\n",
      "              ]\n",
      "              PureAttention_in4_out2\n",
      "              Dense_512\n",
      "            ]\n",
      "            _in2_out2\n",
      "          ]\n",
      "        ]\n",
      "        _in2_out2\n",
      "      ]\n",
      "      Dropout\n",
      "    ]\n",
      "  ]\n",
      "  Add_in2\n",
      "], Serial[\n",
      "  Branch_out2[\n",
      "    None\n",
      "    Serial[\n",
      "      LayerNorm\n",
      "      Dense_2048\n",
      "      Serial[\n",
      "        Relu\n",
      "      ]\n",
      "      Dropout\n",
      "      Dense_512\n",
      "      Dropout\n",
      "    ]\n",
      "  ]\n",
      "  Add_in2\n",
      "]]\n"
     ]
    }
   ],
   "source": [
    "# Print the block layout\n",
    "encoder_example = EncoderBlock(d_model=512, d_ff=2048, n_heads=6, dropout=0.8, dropout_shared_axes=0, mode = 'train', ff_activation=tl.Relu)\n",
    "print(encoder_example)"
   ]
  },
  {
   "cell_type": "markdown",
   "metadata": {},
   "source": [
    "#### **Expected Output:**\n",
    "```CPP\n",
    "[Serial_in2_out2[\n",
    "  Branch_in2_out3[\n",
    "    None\n",
    "    Serial_in2_out2[\n",
    "      LayerNorm\n",
    "      Serial_in2_out2[\n",
    "        _in2_out2\n",
    "        Serial_in2_out2[\n",
    "          Select[0,0,0]_out3\n",
    "          Serial_in4_out2[\n",
    "            _in4_out4\n",
    "            Serial_in4_out2[\n",
    "              Parallel_in3_out3[\n",
    "                Dense_512\n",
    "                Dense_512\n",
    "                Dense_512\n",
    "              ]\n",
    "              PureAttention_in4_out2\n",
    "              Dense_512\n",
    "            ]\n",
    "            _in2_out2\n",
    "          ]\n",
    "        ]\n",
    "        _in2_out2\n",
    "      ]\n",
    "      Dropout\n",
    "    ]\n",
    "  ]\n",
    "  Add_in2\n",
    "], Serial[\n",
    "  Branch_out2[\n",
    "    None\n",
    "    Serial[\n",
    "      LayerNorm\n",
    "      Dense_2048\n",
    "      Serial[\n",
    "        Relu\n",
    "      ]\n",
    "      Dropout\n",
    "      Dense_512\n",
    "      Dropout\n",
    "    ]\n",
    "  ]\n",
    "  Add_in2\n",
    "]]\n",
    "```"
   ]
  },
  {
   "cell_type": "code",
   "execution_count": 45,
   "metadata": {},
   "outputs": [
    {
     "name": "stdout",
     "output_type": "stream",
     "text": [
      "\u001b[92m All tests passed\n"
     ]
    }
   ],
   "source": [
    "# UNIT TEST\n",
    "# test EncoderBlock\n",
    "w3_tests.test_EncoderBlock(EncoderBlock)"
   ]
  },
  {
   "cell_type": "markdown",
   "metadata": {
    "colab_type": "text",
    "id": "QM9uPu31xv4U"
   },
   "source": [
    "<a name='2.1.3'></a>\n",
    "### 2.1.3 The Transformer Encoder\n",
    "\n",
    "Now that you have implemented the `EncoderBlock`, it is time to build the full encoder. BERT, or Bidirectional Encoder Representations from Transformers is one such encoder. \n",
    "\n",
    "You will implement its core code in the function below by using the functions you have coded so far. \n",
    "\n",
    "The model takes in many hyperparameters, such as the `vocab_size`, the number of classes, the dimension of your model, etc. You want to build a generic function that will take in many parameters, so you can use it later. At the end of the day, anyone can just load in an API and call transformer, but we think it is important to make sure you understand how it is built. Let's get started. \n",
    "\n",
    "**Instructions:** For this encoder you will need a `positional_encoder` first (which is already provided) followed by `n_layers` encoder blocks, which are the same encoder blocks you previously built. Once you store the `n_layers` `EncoderBlock` in a list, you are going to encode a `Serial` layer with the following sublayers: \n",
    "\n",
    "- [`tl.Branch`](https://trax-ml.readthedocs.io/en/latest/trax.layers.html#trax.layers.combinators.Branch): helps with the branching and has the following sublayers:\n",
    "    - `positional_encoder`.\n",
    "    - [`tl.PaddingMask()`](https://trax-ml.readthedocs.io/en/latest/trax.layers.html#trax.layers.attention.PaddingMask): layer that maps integer sequences to padding masks.\n",
    "- Your list of `EncoderBlock`s\n",
    "- [`tl.Select([0], n_in=2)`](https://trax-ml.readthedocs.io/en/latest/trax.layers.html#trax.layers.combinators.Select):  Copies, reorders, or deletes stack elements according to indices.\n",
    "- [`tl.LayerNorm()`](https://trax-ml.readthedocs.io/en/latest/trax.layers.html#trax.layers.normalization.LayerNorm).\n",
    "- [`tl.Mean()`](https://trax-ml.readthedocs.io/en/latest/trax.layers.html#trax.layers.core.Mean): Mean along the first axis.\n",
    "- `tl.Dense()` with n_units set to n_classes. \n",
    "- `tl.LogSoftmax()`   \n",
    "\n",
    "Please refer to the [trax documentation](https://trax-ml.readthedocs.io/en/latest/) for further information. "
   ]
  },
  {
   "cell_type": "markdown",
   "metadata": {},
   "source": [
    "<a name='ex04'></a>\n",
    "### Exercise 04"
   ]
  },
  {
   "cell_type": "code",
   "execution_count": 46,
   "metadata": {
    "colab": {},
    "colab_type": "code",
    "id": "dtIMHJQIxv4U"
   },
   "outputs": [],
   "source": [
    "# GRADED FUNCTION: TransformerEncoder\n",
    "def TransformerEncoder(vocab_size=32000,\n",
    "                       n_classes=10,\n",
    "                       d_model=512,\n",
    "                       d_ff=2048,\n",
    "                       n_layers=6,\n",
    "                       n_heads=8,\n",
    "                       dropout=0.1,\n",
    "                       dropout_shared_axes=None,\n",
    "                       max_len=2048,\n",
    "                       mode='train',\n",
    "                       ff_activation=tl.Relu,\n",
    "                      EncoderBlock=EncoderBlock):\n",
    "    \n",
    "    \"\"\"\n",
    "    Returns a Transformer encoder model.\n",
    "    The input to the model is a tensor of tokens.\n",
    "  \n",
    "    Args:\n",
    "        vocab_size (int): vocab size. Defaults to vocab_size.\n",
    "        n_classes (int): how many classes on output. Defaults to 10.\n",
    "        d_model (int): depth of embedding. Defaults to 512.\n",
    "        d_ff (int): depth of feed-forward layer. Defaults to 2048.\n",
    "        n_layers (int): number of encoder/decoder layers. Defaults to 6.\n",
    "        n_heads (int): number of attention heads. Defaults to 8.\n",
    "        dropout (float): dropout rate (how much to drop out). Defaults to 0.1.\n",
    "        dropout_shared_axes (int): axes on which to share dropout mask. Defaults to None.\n",
    "        max_len (int): maximum symbol length for positional encoding. Defaults to 2048.\n",
    "        mode (str): 'train' or 'eval'. Defaults to 'train'.\n",
    "        ff_activation (function): the non-linearity in feed-forward layer. Defaults to tl.Relu.\n",
    "        EncoderBlock (function): Returns the encoder block. Defaults to EncoderBlock.\n",
    "  \n",
    "    Returns:\n",
    "        trax.layers.combinators.Serial: A Transformer model as a layer that maps\n",
    "        from a tensor of tokens to activations over a set of output classes.\n",
    "    \"\"\"\n",
    "    \n",
    "    positional_encoder = [\n",
    "        tl.Embedding(vocab_size, d_model),\n",
    "        tl.Dropout(rate=dropout, shared_axes=dropout_shared_axes, mode=mode),\n",
    "        tl.PositionalEncoding(max_len=max_len)\n",
    "    ]\n",
    "    \n",
    "    ### START CODE HERE ###\n",
    "    \n",
    "    # Use the function `EncoderBlock` (implemented above) and pass in the parameters over `n_layers`\n",
    "    encoder_blocks=[EncoderBlock(d_model, d_ff, n_heads, dropout, dropout_shared_axes, mode, ff_activation) for _ in range(n_layers)]\n",
    "\n",
    "    # Assemble and return the model.\n",
    "    return tl.Serial(\n",
    "        # Encode\n",
    "        tl.Branch(\n",
    "            # Use `positional_encoder`\n",
    "            positional_encoder,\n",
    "            # Use trax padding mask\n",
    "            tl.PaddingMask()\n",
    "        ),\n",
    "        # Use `encoder_blocks`\n",
    "        encoder_blocks,\n",
    "        # Use select layer\n",
    "        tl.Select([0], n_in=2),\n",
    "        # Use trax layer normalization\n",
    "        tl.LayerNorm(),\n",
    "        # Map to output categories.\n",
    "        # Use trax mean. set axis to 1\n",
    "        tl.Mean(axis=1),\n",
    "        # Use trax Dense using `n_classes`\n",
    "        tl.Dense(n_classes),\n",
    "        # Use trax log softmax\n",
    "        tl.LogSoftmax()\n",
    "    )\n",
    "\n",
    "    ### END CODE HERE ###"
   ]
  },
  {
   "cell_type": "code",
   "execution_count": 47,
   "metadata": {
    "colab": {
     "base_uri": "https://localhost:8080/",
     "height": 1000
    },
    "colab_type": "code",
    "id": "T2zDL_86xv4X",
    "outputId": "65d3d76a-96fd-44ea-9353-c89e6d8c0e1e"
   },
   "outputs": [
    {
     "data": {
      "text/plain": [
       "Serial[\n",
       "  Branch_out2[\n",
       "    [Embedding_32000_512, Dropout, PositionalEncoding]\n",
       "    Serial[\n",
       "      PaddingMask(0)\n",
       "    ]\n",
       "  ]\n",
       "  Serial_in2_out2[\n",
       "    Branch_in2_out3[\n",
       "      None\n",
       "      Serial_in2_out2[\n",
       "        LayerNorm\n",
       "        Serial_in2_out2[\n",
       "          _in2_out2\n",
       "          Serial_in2_out2[\n",
       "            Select[0,0,0]_out3\n",
       "            Serial_in4_out2[\n",
       "              _in4_out4\n",
       "              Serial_in4_out2[\n",
       "                Parallel_in3_out3[\n",
       "                  Dense_512\n",
       "                  Dense_512\n",
       "                  Dense_512\n",
       "                ]\n",
       "                PureAttention_in4_out2\n",
       "                Dense_512\n",
       "              ]\n",
       "              _in2_out2\n",
       "            ]\n",
       "          ]\n",
       "          _in2_out2\n",
       "        ]\n",
       "        Dropout\n",
       "      ]\n",
       "    ]\n",
       "    Add_in2\n",
       "  ]\n",
       "  Serial[\n",
       "    Branch_out2[\n",
       "      None\n",
       "      Serial[\n",
       "        LayerNorm\n",
       "        Dense_2048\n",
       "        Serial[\n",
       "          Relu\n",
       "        ]\n",
       "        Dropout\n",
       "        Dense_512\n",
       "        Dropout\n",
       "      ]\n",
       "    ]\n",
       "    Add_in2\n",
       "  ]\n",
       "  Select[0]_in2\n",
       "  LayerNorm\n",
       "  Mean\n",
       "  Dense_10\n",
       "  LogSoftmax\n",
       "]"
      ]
     },
     "execution_count": 47,
     "metadata": {},
     "output_type": "execute_result"
    }
   ],
   "source": [
    "# Run this cell to see the structure of your model\n",
    "# Only 1 layer is used to keep the output readable\n",
    "TransformerEncoder(n_layers=1)"
   ]
  },
  {
   "cell_type": "markdown",
   "metadata": {},
   "source": [
    "#### **Expected Output:**\n",
    "```CPP\n",
    "Serial[\n",
    "  Branch_out2[\n",
    "    [Embedding_32000_512, Dropout, PositionalEncoding]\n",
    "    Serial[\n",
    "      PaddingMask(0)\n",
    "    ]\n",
    "  ]\n",
    "  Serial_in2_out2[\n",
    "    Branch_in2_out3[\n",
    "      None\n",
    "      Serial_in2_out2[\n",
    "        LayerNorm\n",
    "        Serial_in2_out2[\n",
    "          _in2_out2\n",
    "          Serial_in2_out2[\n",
    "            Select[0,0,0]_out3\n",
    "            Serial_in4_out2[\n",
    "              _in4_out4\n",
    "              Serial_in4_out2[\n",
    "                Parallel_in3_out3[\n",
    "                  Dense_512\n",
    "                  Dense_512\n",
    "                  Dense_512\n",
    "                ]\n",
    "                PureAttention_in4_out2\n",
    "                Dense_512\n",
    "              ]\n",
    "              _in2_out2\n",
    "            ]\n",
    "          ]\n",
    "          _in2_out2\n",
    "        ]\n",
    "        Dropout\n",
    "      ]\n",
    "    ]\n",
    "    Add_in2\n",
    "  ]\n",
    "  Serial[\n",
    "    Branch_out2[\n",
    "      None\n",
    "      Serial[\n",
    "        LayerNorm\n",
    "        Dense_2048\n",
    "        Serial[\n",
    "          Relu\n",
    "        ]\n",
    "        Dropout\n",
    "        Dense_512\n",
    "        Dropout\n",
    "      ]\n",
    "    ]\n",
    "    Add_in2\n",
    "  ]\n",
    "  Select[0]_in2\n",
    "  LayerNorm\n",
    "  Mean\n",
    "  Dense_10\n",
    "  LogSoftmax\n",
    "]\n",
    "```"
   ]
  },
  {
   "cell_type": "code",
   "execution_count": 48,
   "metadata": {},
   "outputs": [
    {
     "name": "stdout",
     "output_type": "stream",
     "text": [
      "\u001b[92m All tests passed\n"
     ]
    }
   ],
   "source": [
    "# UNIT TEST\n",
    "# test TransformerEncoder\n",
    "w3_tests.test_TransformerEncoder(TransformerEncoder)"
   ]
  },
  {
   "cell_type": "markdown",
   "metadata": {},
   "source": [
    "**NOTE Congratulations! You have completed all of the graded functions of this assignment.** Since the rest of the assignment takes a lot of time and memory to run we are providing some extra ungraded labs for you to see this model in action.\n",
    "\n",
    "**Keep it up!**"
   ]
  },
  {
   "cell_type": "code",
   "execution_count": null,
   "metadata": {},
   "outputs": [],
   "source": []
  },
  {
   "cell_type": "code",
   "execution_count": null,
   "metadata": {},
   "outputs": [],
   "source": []
  },
  {
   "cell_type": "code",
   "execution_count": null,
   "metadata": {},
   "outputs": [],
   "source": []
  }
 ],
 "metadata": {
  "jupytext": {
   "encoding": "# -*- coding: utf-8 -*-"
  },
  "kernelspec": {
   "display_name": "Python 3",
   "language": "python",
   "name": "python3"
  },
  "language_info": {
   "codemirror_mode": {
    "name": "ipython",
    "version": 3
   },
   "file_extension": ".py",
   "mimetype": "text/x-python",
   "name": "python",
   "nbconvert_exporter": "python",
   "pygments_lexer": "ipython3",
   "version": "3.7.6"
  }
 },
 "nbformat": 4,
 "nbformat_minor": 5
}
